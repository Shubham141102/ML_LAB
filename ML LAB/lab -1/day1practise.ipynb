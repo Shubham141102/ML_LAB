{
 "cells": [
  {
   "cell_type": "code",
   "execution_count": 1,
   "id": "3df64ba6-b02a-484e-9ba6-500c39a064e7",
   "metadata": {},
   "outputs": [
    {
     "name": "stdout",
     "output_type": "stream",
     "text": [
      "Python 3.12.8\n"
     ]
    }
   ],
   "source": [
    "!python --version\n"
   ]
  },
  {
   "cell_type": "code",
   "execution_count": 2,
   "id": "89b05d13-5faf-45eb-b2c0-6983ad411bc8",
   "metadata": {},
   "outputs": [
    {
     "name": "stdout",
     "output_type": "stream",
     "text": [
      "the addition of 25 and 15 is 40\n"
     ]
    }
   ],
   "source": [
    "a = 25\n",
    "b = 15\n",
    "c=a+b\n",
    "print(\"the addition of 25 and 15 is %d\" %c)"
   ]
  },
  {
   "cell_type": "code",
   "execution_count": 4,
   "id": "e894c248-092a-4dae-b1ba-0b203fbbaeb9",
   "metadata": {},
   "outputs": [],
   "source": [
    "# Lists"
   ]
  },
  {
   "cell_type": "code",
   "execution_count": 5,
   "id": "467845e2-98db-4195-a6b6-5ea82f2e7294",
   "metadata": {},
   "outputs": [],
   "source": [
    "#  Lists can have heterogeneous datatypes in them.\n",
    "#  • These are mutable.\n",
    "#  • Ordered sequence of values.\n",
    "#  • Written as a sequence of  comma-separated values between square brackets."
   ]
  },
  {
   "cell_type": "code",
   "execution_count": 6,
   "id": "19bbb4b4-bd20-413a-ad90-966a8a8f24f1",
   "metadata": {},
   "outputs": [],
   "source": [
    "lst = [1,2,3,4]"
   ]
  },
  {
   "cell_type": "code",
   "execution_count": 7,
   "id": "8e4e391a-4885-47c7-a88c-bb1726ab77ca",
   "metadata": {},
   "outputs": [],
   "source": [
    "lst = [1,2,3,4]"
   ]
  },
  {
   "cell_type": "code",
   "execution_count": 9,
   "id": "6b8bb36e-7af0-4385-a435-1822902fd2e4",
   "metadata": {},
   "outputs": [],
   "source": [
    "#Tuple"
   ]
  },
  {
   "cell_type": "code",
   "execution_count": 12,
   "id": "1a72bb13-68a2-47ae-a283-9a6e1507a8b3",
   "metadata": {},
   "outputs": [],
   "source": [
    "# # Python Tuple is a collection of objects separated by commas. \n",
    "# A tuple is similar to a Python list in terms of indexing, nested objects, and repetition but the main difference between both\n",
    "# is Python tuple is immutable, unlike the Python list which is mutable.\n",
    " # • Empty and Singleton tuples\n",
    " # • Tuples can be nested\n",
    " # • Tuples can be concatenated, repeated, indexed and sliced."
   ]
  },
  {
   "cell_type": "code",
   "execution_count": 13,
   "id": "b7b5cd63-b54f-467d-9151-41c8ed051e5b",
   "metadata": {},
   "outputs": [],
   "source": [
    "course = 'machine','learning',101"
   ]
  },
  {
   "cell_type": "code",
   "execution_count": 17,
   "id": "ffba26e2-cbb9-47f0-bb39-1a16cb52aadd",
   "metadata": {},
   "outputs": [
    {
     "name": "stdout",
     "output_type": "stream",
     "text": [
      "<class 'tuple'>\n",
      "<class 'list'>\n"
     ]
    }
   ],
   "source": [
    "print(type(course))\n",
    "print(type(lst))"
   ]
  },
  {
   "cell_type": "code",
   "execution_count": 20,
   "id": "78bada05-51cf-4827-b006-72d6bccaffe6",
   "metadata": {},
   "outputs": [],
   "source": [
    "student = 'lab',55,course #student is a tuple and it is also a nested tuple"
   ]
  },
  {
   "cell_type": "code",
   "execution_count": 21,
   "id": "340c576b-7f97-429d-ac13-dde74fa9140c",
   "metadata": {},
   "outputs": [
    {
     "name": "stdout",
     "output_type": "stream",
     "text": [
      "('lab', 55, ('machine', 'learning', 101))\n"
     ]
    }
   ],
   "source": [
    "print(student) "
   ]
  },
  {
   "cell_type": "code",
   "execution_count": 22,
   "id": "95ca45c0-7fb7-4215-8e2d-9adaa39c85fc",
   "metadata": {},
   "outputs": [],
   "source": [
    "student = 'lab',56,course"
   ]
  },
  {
   "cell_type": "code",
   "execution_count": 23,
   "id": "2514b792-94b7-435d-92b9-434df055b714",
   "metadata": {},
   "outputs": [
    {
     "data": {
      "text/plain": [
       "('lab', 56, ('machine', 'learning', 101))"
      ]
     },
     "execution_count": 23,
     "metadata": {},
     "output_type": "execute_result"
    }
   ],
   "source": [
    "student"
   ]
  },
  {
   "cell_type": "code",
   "execution_count": 24,
   "id": "4a341c39-7d4f-4f95-bde1-96c7616cbf43",
   "metadata": {},
   "outputs": [],
   "source": [
    "# # Tuple Items\n",
    "# # Tuple items are ordered, unchangeable, and allow duplicate values.\n",
    "# # Tuple items are indexed, the first item has index [0], the second item has index [1] etc.\n",
    "# Ordered\n",
    "# When we say that tuples are ordered, it means that the items have a defined order, and that order will not change.\n",
    "\n",
    "# Unchangeable\n",
    "# Tuples are unchangeable, meaning that we cannot change, add or remove items after the tuple has been created.\n",
    "\n",
    "# Allow Duplicates\n",
    "# Since tuples are indexed, they can have items with the same value:"
   ]
  },
  {
   "cell_type": "code",
   "execution_count": 25,
   "id": "37fccb0f-3d89-4427-b5f8-c0a5ec74ebef",
   "metadata": {},
   "outputs": [
    {
     "name": "stdout",
     "output_type": "stream",
     "text": [
      "('apple', 'banana', 'cherry', 'apple', 'cherry')\n"
     ]
    }
   ],
   "source": [
    "thistuple = (\"apple\", \"banana\", \"cherry\", \"apple\", \"cherry\")\n",
    "print(thistuple)"
   ]
  },
  {
   "cell_type": "code",
   "execution_count": 26,
   "id": "e34b7cc1-93bf-4b50-a5f8-3eda07367e04",
   "metadata": {},
   "outputs": [
    {
     "name": "stdout",
     "output_type": "stream",
     "text": [
      "('cherry', 'orange', 'kiwi')\n"
     ]
    }
   ],
   "source": [
    "# Range of Indexes\n",
    "# You can specify a range of indexes by specifying where to start and where to end the range.\n",
    "\n",
    "# When specifying a range, the return value will be a new tuple with the specified items.\n",
    "\n",
    "# Example\n",
    "# Return the third, fourth, and fifth item:\n",
    "\n",
    "thistuple = (\"apple\", \"banana\", \"cherry\", \"orange\", \"kiwi\", \"melon\", \"mango\")\n",
    "print(thistuple[2:5])"
   ]
  },
  {
   "cell_type": "code",
   "execution_count": 27,
   "id": "dbdcd92a-62a4-4bf4-a14c-fe407257b668",
   "metadata": {},
   "outputs": [
    {
     "name": "stdout",
     "output_type": "stream",
     "text": [
      "('apple', 'banana', 'cherry', 'orange')\n"
     ]
    }
   ],
   "source": [
    "thistuple = (\"apple\", \"banana\", \"cherry\", \"orange\", \"kiwi\", \"melon\", \"mango\")\n",
    "print(thistuple[:4])"
   ]
  },
  {
   "cell_type": "code",
   "execution_count": 28,
   "id": "9da18c96-ec77-44af-84af-25f48d65fff5",
   "metadata": {},
   "outputs": [
    {
     "name": "stdout",
     "output_type": "stream",
     "text": [
      "Yes, 'apple' is in the fruits tuple\n"
     ]
    }
   ],
   "source": [
    "thistuple = (\"apple\", \"banana\", \"cherry\")\n",
    "if \"apple\" in thistuple:\n",
    "  print(\"Yes, 'apple' is in the fruits tuple\")"
   ]
  },
  {
   "cell_type": "code",
   "execution_count": 29,
   "id": "6faa8674-906b-41c7-a521-f66983d5c68d",
   "metadata": {},
   "outputs": [],
   "source": [
    "# Change Tuple Values\n",
    "# Once a tuple is created, you cannot change its values. Tuples are unchangeable, or immutable as it also is called.\n",
    "\n",
    "# But there is a workaround. You can convert the tuple into a list, change the list, and convert the list back into a tuple."
   ]
  },
  {
   "cell_type": "code",
   "execution_count": 31,
   "id": "0e7eea72-5f5c-407d-ae33-d2025b53a585",
   "metadata": {},
   "outputs": [],
   "source": [
    "# Dictionary\n",
    "# Dictionaries are used to store data values in key:value pairs.\n",
    "\n",
    "# A dictionary is a collection which is ordered*, changeable and do not allow duplicates."
   ]
  },
  {
   "cell_type": "code",
   "execution_count": 32,
   "id": "527b35cc-7b71-442f-a023-5fbc14fa8447",
   "metadata": {},
   "outputs": [
    {
     "name": "stdout",
     "output_type": "stream",
     "text": [
      "{'brand': 'Ford', 'model': 'Mustang', 'year': 1964}\n"
     ]
    }
   ],
   "source": [
    "thisdict = {\n",
    "  \"brand\": \"Ford\",\n",
    "  \"model\": \"Mustang\",\n",
    "  \"year\": 1964\n",
    "}\n",
    "print(thisdict)"
   ]
  },
  {
   "cell_type": "code",
   "execution_count": 33,
   "id": "d295fe5f-6959-45b6-ba5d-963812461398",
   "metadata": {},
   "outputs": [
    {
     "name": "stdout",
     "output_type": "stream",
     "text": [
      "Ford\n"
     ]
    }
   ],
   "source": [
    "thisdict = {\n",
    "  \"brand\": \"Ford\",\n",
    "  \"model\": \"Mustang\",\n",
    "  \"year\": 1964\n",
    "}\n",
    "print(thisdict[\"brand\"])"
   ]
  },
  {
   "cell_type": "code",
   "execution_count": 34,
   "id": "bba181f0-6350-4b36-831f-c53f05ed159b",
   "metadata": {},
   "outputs": [],
   "source": [
    "# Changeable\n",
    "# Dictionaries are changeable, meaning that we can change, add or remove items after the dictionary has been created.\n",
    "\n",
    "# Duplicates Not Allowed\n",
    "# Dictionaries cannot have two items with the same key:"
   ]
  },
  {
   "cell_type": "code",
   "execution_count": 35,
   "id": "ab3c2431-7b11-4364-ba26-a600e2f224c4",
   "metadata": {},
   "outputs": [
    {
     "name": "stdout",
     "output_type": "stream",
     "text": [
      "dict_keys(['brand', 'model', 'year'])\n"
     ]
    }
   ],
   "source": [
    "thisdict = {\n",
    "  \"brand\": \"Ford\",\n",
    "  \"model\": \"Mustang\",\n",
    "  \"year\": 1964\n",
    "}\n",
    "\n",
    "x = thisdict.keys()\n",
    "\n",
    "print(x)"
   ]
  },
  {
   "cell_type": "code",
   "execution_count": 36,
   "id": "887eb319-b35d-4dc9-894e-8e9ae1b5418c",
   "metadata": {},
   "outputs": [
    {
     "name": "stdout",
     "output_type": "stream",
     "text": [
      "dict_values(['Ford', 'Mustang', 1964])\n",
      "dict_values(['Ford', 'Mustang', 2020])\n"
     ]
    }
   ],
   "source": [
    "car = {\n",
    "\"brand\": \"Ford\",\n",
    "\"model\": \"Mustang\",\n",
    "\"year\": 1964\n",
    "}\n",
    "\n",
    "x = car.values()\n",
    "\n",
    "print(x) #before the change\n",
    "\n",
    "car[\"year\"] = 2020\n",
    "\n",
    "print(x) #after the change"
   ]
  },
  {
   "cell_type": "code",
   "execution_count": 37,
   "id": "72599e7a-e4eb-4c5f-b7af-2b707756e29b",
   "metadata": {},
   "outputs": [],
   "source": [
    "# • An unordered collection with no duplicate elements\n",
    "#  • Supports\n",
    "#  ➢membership testing \n",
    "# ➢eliminating duplicate entries\n",
    "#  ➢Set operations: union, intersection, difference, and symmetric \n",
    "# difference."
   ]
  },
  {
   "cell_type": "code",
   "execution_count": 38,
   "id": "88cd7bd4-ac84-4f6e-8ea7-4b45ff93f033",
   "metadata": {},
   "outputs": [
    {
     "name": "stdout",
     "output_type": "stream",
     "text": [
      "{'cherry', 'apple', 'banana'}\n"
     ]
    }
   ],
   "source": [
    "thisset = {\"apple\", \"banana\", \"cherry\"}\n",
    "print(thisset)"
   ]
  },
  {
   "cell_type": "code",
   "execution_count": 40,
   "id": "059b7e8f-3ced-4105-ae4c-4fb05e149195",
   "metadata": {},
   "outputs": [],
   "source": [
    "# # Unordered\n",
    "# # Unordered means that the items in a set do not have a defined order.\n",
    "\n",
    "# # Set items can appear in a different order every time you use them, and cannot be referred to by index or key.\n",
    "\n",
    "# # Unchangeable\n",
    "# # Set items are unchangeable, meaning that we cannot change the items after the set has been created.\n",
    "\n",
    "# # Once a set is created, you cannot change its items, but you can remove items and add new items.\n",
    "# Duplicates Not Allowed\n",
    "# Sets cannot have two items with the same value."
   ]
  },
  {
   "cell_type": "code",
   "execution_count": 41,
   "id": "1d5124d2-9e3a-421a-ad1c-9471b56d06c2",
   "metadata": {},
   "outputs": [
    {
     "ename": "ModuleNotFoundError",
     "evalue": "No module named 'numpy'",
     "output_type": "error",
     "traceback": [
      "\u001b[1;31m---------------------------------------------------------------------------\u001b[0m",
      "\u001b[1;31mModuleNotFoundError\u001b[0m                       Traceback (most recent call last)",
      "Cell \u001b[1;32mIn[41], line 1\u001b[0m\n\u001b[1;32m----> 1\u001b[0m \u001b[38;5;28;01mimport\u001b[39;00m \u001b[38;5;21;01mnumpy\u001b[39;00m \u001b[38;5;28;01mas\u001b[39;00m \u001b[38;5;21;01mnp\u001b[39;00m\n",
      "\u001b[1;31mModuleNotFoundError\u001b[0m: No module named 'numpy'"
     ]
    }
   ],
   "source": [
    "import numpy as np"
   ]
  },
  {
   "cell_type": "code",
   "execution_count": 42,
   "id": "56c65620-25a8-40f0-9087-9d4f07af857b",
   "metadata": {},
   "outputs": [
    {
     "name": "stdout",
     "output_type": "stream",
     "text": [
      "Collecting numpy\n",
      "  Downloading numpy-2.2.1-cp312-cp312-win_amd64.whl.metadata (60 kB)\n",
      "Downloading numpy-2.2.1-cp312-cp312-win_amd64.whl (12.6 MB)\n",
      "   ---------------------------------------- 0.0/12.6 MB ? eta -:--:--\n",
      "   - -------------------------------------- 0.5/12.6 MB 2.4 MB/s eta 0:00:06\n",
      "   --- ------------------------------------ 1.0/12.6 MB 2.6 MB/s eta 0:00:05\n",
      "   ---- ----------------------------------- 1.3/12.6 MB 2.7 MB/s eta 0:00:05\n",
      "   ------ --------------------------------- 2.1/12.6 MB 2.6 MB/s eta 0:00:05\n",
      "   -------- ------------------------------- 2.6/12.6 MB 2.6 MB/s eta 0:00:04\n",
      "   --------- ------------------------------ 3.1/12.6 MB 2.6 MB/s eta 0:00:04\n",
      "   ------------ --------------------------- 3.9/12.6 MB 2.8 MB/s eta 0:00:04\n",
      "   -------------- ------------------------- 4.7/12.6 MB 2.9 MB/s eta 0:00:03\n",
      "   ---------------- ----------------------- 5.2/12.6 MB 2.9 MB/s eta 0:00:03\n",
      "   ------------------- -------------------- 6.0/12.6 MB 3.0 MB/s eta 0:00:03\n",
      "   --------------------- ------------------ 6.8/12.6 MB 3.0 MB/s eta 0:00:02\n",
      "   ----------------------- ---------------- 7.3/12.6 MB 3.0 MB/s eta 0:00:02\n",
      "   ------------------------- -------------- 8.1/12.6 MB 3.0 MB/s eta 0:00:02\n",
      "   ---------------------------- ----------- 8.9/12.6 MB 3.1 MB/s eta 0:00:02\n",
      "   ----------------------------- ---------- 9.4/12.6 MB 3.1 MB/s eta 0:00:02\n",
      "   -------------------------------- ------- 10.2/12.6 MB 3.1 MB/s eta 0:00:01\n",
      "   ---------------------------------- ----- 11.0/12.6 MB 3.2 MB/s eta 0:00:01\n",
      "   ------------------------------------- -- 11.8/12.6 MB 3.2 MB/s eta 0:00:01\n",
      "   ---------------------------------------  12.6/12.6 MB 3.2 MB/s eta 0:00:01\n",
      "   ---------------------------------------- 12.6/12.6 MB 3.2 MB/s eta 0:00:00\n",
      "Installing collected packages: numpy\n",
      "Successfully installed numpy-2.2.1\n"
     ]
    }
   ],
   "source": [
    "!pip install numpy"
   ]
  },
  {
   "cell_type": "code",
   "execution_count": 43,
   "id": "4b5dad2b-a3f4-4c8b-a520-8b36a7d39e31",
   "metadata": {},
   "outputs": [],
   "source": [
    "import numpy as np"
   ]
  },
  {
   "cell_type": "code",
   "execution_count": 44,
   "id": "2504133a-0bce-4a8d-af57-2cfd2eb6058f",
   "metadata": {},
   "outputs": [
    {
     "name": "stdout",
     "output_type": "stream",
     "text": [
      "Collecting pandas\n",
      "  Downloading pandas-2.2.3-cp312-cp312-win_amd64.whl.metadata (19 kB)\n",
      "Requirement already satisfied: numpy>=1.26.0 in c:\\users\\shubham\\anaconda3\\envs\\mllab_env\\lib\\site-packages (from pandas) (2.2.1)\n",
      "Requirement already satisfied: python-dateutil>=2.8.2 in c:\\users\\shubham\\anaconda3\\envs\\mllab_env\\lib\\site-packages (from pandas) (2.9.0.post0)\n",
      "Requirement already satisfied: pytz>=2020.1 in c:\\users\\shubham\\anaconda3\\envs\\mllab_env\\lib\\site-packages (from pandas) (2024.1)\n",
      "Collecting tzdata>=2022.7 (from pandas)\n",
      "  Downloading tzdata-2024.2-py2.py3-none-any.whl.metadata (1.4 kB)\n",
      "Requirement already satisfied: six>=1.5 in c:\\users\\shubham\\anaconda3\\envs\\mllab_env\\lib\\site-packages (from python-dateutil>=2.8.2->pandas) (1.16.0)\n",
      "Downloading pandas-2.2.3-cp312-cp312-win_amd64.whl (11.5 MB)\n",
      "   ---------------------------------------- 0.0/11.5 MB ? eta -:--:--\n",
      "   ---------------------------------------- 0.0/11.5 MB ? eta -:--:--\n",
      "    --------------------------------------- 0.3/11.5 MB ? eta -:--:--\n",
      "   -- ------------------------------------- 0.8/11.5 MB 1.5 MB/s eta 0:00:08\n",
      "   --- ------------------------------------ 1.0/11.5 MB 1.5 MB/s eta 0:00:08\n",
      "   ----- ---------------------------------- 1.6/11.5 MB 1.8 MB/s eta 0:00:06\n",
      "   -------- ------------------------------- 2.4/11.5 MB 2.1 MB/s eta 0:00:05\n",
      "   --------- ------------------------------ 2.6/11.5 MB 2.1 MB/s eta 0:00:05\n",
      "   ---------- ----------------------------- 3.1/11.5 MB 2.2 MB/s eta 0:00:04\n",
      "   ------------ --------------------------- 3.7/11.5 MB 2.2 MB/s eta 0:00:04\n",
      "   -------------- ------------------------- 4.2/11.5 MB 2.2 MB/s eta 0:00:04\n",
      "   ----------------- ---------------------- 5.0/11.5 MB 2.3 MB/s eta 0:00:03\n",
      "   -------------------- ------------------- 5.8/11.5 MB 2.5 MB/s eta 0:00:03\n",
      "   -------------------- ------------------- 6.0/11.5 MB 2.4 MB/s eta 0:00:03\n",
      "   ---------------------- ----------------- 6.6/11.5 MB 2.4 MB/s eta 0:00:03\n",
      "   ------------------------- -------------- 7.3/11.5 MB 2.5 MB/s eta 0:00:02\n",
      "   -------------------------- ------------- 7.6/11.5 MB 2.4 MB/s eta 0:00:02\n",
      "   ------------------------------ --------- 8.7/11.5 MB 2.6 MB/s eta 0:00:02\n",
      "   ------------------------------- -------- 9.2/11.5 MB 2.6 MB/s eta 0:00:01\n",
      "   ---------------------------------- ----- 10.0/11.5 MB 2.6 MB/s eta 0:00:01\n",
      "   ------------------------------------- -- 10.7/11.5 MB 2.7 MB/s eta 0:00:01\n",
      "   ---------------------------------------  11.3/11.5 MB 2.7 MB/s eta 0:00:01\n",
      "   ---------------------------------------- 11.5/11.5 MB 2.7 MB/s eta 0:00:00\n",
      "Downloading tzdata-2024.2-py2.py3-none-any.whl (346 kB)\n",
      "Installing collected packages: tzdata, pandas\n",
      "Successfully installed pandas-2.2.3 tzdata-2024.2\n"
     ]
    }
   ],
   "source": [
    "!pip install pandas\n"
   ]
  },
  {
   "cell_type": "code",
   "execution_count": 45,
   "id": "34f8184e-d29f-4aa6-a0c6-7cc9875b0570",
   "metadata": {},
   "outputs": [
    {
     "name": "stdout",
     "output_type": "stream",
     "text": [
      "Collecting scipy\n",
      "  Downloading scipy-1.15.0-cp312-cp312-win_amd64.whl.metadata (60 kB)\n",
      "Requirement already satisfied: numpy<2.5,>=1.23.5 in c:\\users\\shubham\\anaconda3\\envs\\mllab_env\\lib\\site-packages (from scipy) (2.2.1)\n",
      "Downloading scipy-1.15.0-cp312-cp312-win_amd64.whl (43.6 MB)\n",
      "   ---------------------------------------- 0.0/43.6 MB ? eta -:--:--\n",
      "   ---------------------------------------- 0.5/43.6 MB 4.2 MB/s eta 0:00:11\n",
      "    --------------------------------------- 1.0/43.6 MB 2.8 MB/s eta 0:00:16\n",
      "   - -------------------------------------- 1.8/43.6 MB 3.4 MB/s eta 0:00:13\n",
      "   -- ------------------------------------- 2.4/43.6 MB 2.9 MB/s eta 0:00:15\n",
      "   -- ------------------------------------- 3.1/43.6 MB 3.1 MB/s eta 0:00:13\n",
      "   --- ------------------------------------ 3.4/43.6 MB 3.2 MB/s eta 0:00:13\n",
      "   --- ------------------------------------ 3.9/43.6 MB 3.1 MB/s eta 0:00:14\n",
      "   ---- ----------------------------------- 4.5/43.6 MB 2.8 MB/s eta 0:00:15\n",
      "   ---- ----------------------------------- 5.0/43.6 MB 2.8 MB/s eta 0:00:14\n",
      "   ----- ---------------------------------- 5.5/43.6 MB 2.7 MB/s eta 0:00:15\n",
      "   ----- ---------------------------------- 6.3/43.6 MB 2.8 MB/s eta 0:00:14\n",
      "   ------ --------------------------------- 6.8/43.6 MB 2.8 MB/s eta 0:00:14\n",
      "   ------ --------------------------------- 7.3/43.6 MB 2.8 MB/s eta 0:00:13\n",
      "   ------- -------------------------------- 8.1/43.6 MB 2.8 MB/s eta 0:00:13\n",
      "   -------- ------------------------------- 8.9/43.6 MB 2.9 MB/s eta 0:00:12\n",
      "   -------- ------------------------------- 9.7/43.6 MB 3.0 MB/s eta 0:00:12\n",
      "   --------- ------------------------------ 10.2/43.6 MB 3.0 MB/s eta 0:00:12\n",
      "   --------- ------------------------------ 10.7/43.6 MB 2.9 MB/s eta 0:00:12\n",
      "   ---------- ----------------------------- 11.0/43.6 MB 2.9 MB/s eta 0:00:12\n",
      "   ---------- ----------------------------- 11.8/43.6 MB 2.9 MB/s eta 0:00:11\n",
      "   ----------- ---------------------------- 12.6/43.6 MB 2.9 MB/s eta 0:00:11\n",
      "   ------------ --------------------------- 13.1/43.6 MB 2.9 MB/s eta 0:00:11\n",
      "   ------------ --------------------------- 13.6/43.6 MB 2.9 MB/s eta 0:00:11\n",
      "   ------------- -------------------------- 14.4/43.6 MB 2.9 MB/s eta 0:00:10\n",
      "   ------------- -------------------------- 14.7/43.6 MB 2.9 MB/s eta 0:00:10\n",
      "   ------------- -------------------------- 15.2/43.6 MB 2.9 MB/s eta 0:00:10\n",
      "   -------------- ------------------------- 16.0/43.6 MB 2.9 MB/s eta 0:00:10\n",
      "   --------------- ------------------------ 16.5/43.6 MB 2.9 MB/s eta 0:00:10\n",
      "   --------------- ------------------------ 17.3/43.6 MB 2.9 MB/s eta 0:00:10\n",
      "   ---------------- ----------------------- 18.1/43.6 MB 2.9 MB/s eta 0:00:09\n",
      "   ----------------- ---------------------- 18.9/43.6 MB 3.0 MB/s eta 0:00:09\n",
      "   ----------------- ---------------------- 19.4/43.6 MB 2.9 MB/s eta 0:00:09\n",
      "   ------------------ --------------------- 19.9/43.6 MB 2.9 MB/s eta 0:00:09\n",
      "   ------------------ --------------------- 20.2/43.6 MB 2.9 MB/s eta 0:00:09\n",
      "   ------------------ --------------------- 20.7/43.6 MB 2.9 MB/s eta 0:00:08\n",
      "   ------------------- -------------------- 21.2/43.6 MB 2.9 MB/s eta 0:00:08\n",
      "   -------------------- ------------------- 22.0/43.6 MB 2.9 MB/s eta 0:00:08\n",
      "   -------------------- ------------------- 22.5/43.6 MB 2.9 MB/s eta 0:00:08\n",
      "   --------------------- ------------------ 23.1/43.6 MB 2.9 MB/s eta 0:00:08\n",
      "   --------------------- ------------------ 23.6/43.6 MB 2.9 MB/s eta 0:00:08\n",
      "   ---------------------- ----------------- 24.1/43.6 MB 2.9 MB/s eta 0:00:07\n",
      "   ---------------------- ----------------- 24.6/43.6 MB 2.9 MB/s eta 0:00:07\n",
      "   ----------------------- ---------------- 25.2/43.6 MB 2.9 MB/s eta 0:00:07\n",
      "   ----------------------- ---------------- 26.0/43.6 MB 2.9 MB/s eta 0:00:07\n",
      "   ------------------------ --------------- 26.5/43.6 MB 2.9 MB/s eta 0:00:06\n",
      "   ------------------------ --------------- 26.7/43.6 MB 2.9 MB/s eta 0:00:06\n",
      "   ------------------------- -------------- 27.5/43.6 MB 2.8 MB/s eta 0:00:06\n",
      "   ------------------------- -------------- 28.3/43.6 MB 2.9 MB/s eta 0:00:06\n",
      "   -------------------------- ------------- 28.8/43.6 MB 2.9 MB/s eta 0:00:06\n",
      "   --------------------------- ------------ 29.6/43.6 MB 2.9 MB/s eta 0:00:05\n",
      "   --------------------------- ------------ 30.1/43.6 MB 2.9 MB/s eta 0:00:05\n",
      "   ---------------------------- ----------- 30.7/43.6 MB 2.9 MB/s eta 0:00:05\n",
      "   ---------------------------- ----------- 31.2/43.6 MB 2.9 MB/s eta 0:00:05\n",
      "   ----------------------------- ---------- 31.7/43.6 MB 2.8 MB/s eta 0:00:05\n",
      "   ----------------------------- ---------- 32.5/43.6 MB 2.9 MB/s eta 0:00:04\n",
      "   ------------------------------ --------- 33.0/43.6 MB 2.9 MB/s eta 0:00:04\n",
      "   ------------------------------ --------- 33.6/43.6 MB 2.8 MB/s eta 0:00:04\n",
      "   ------------------------------- -------- 34.1/43.6 MB 2.8 MB/s eta 0:00:04\n",
      "   ------------------------------- -------- 34.6/43.6 MB 2.8 MB/s eta 0:00:04\n",
      "   -------------------------------- ------- 35.4/43.6 MB 2.8 MB/s eta 0:00:03\n",
      "   -------------------------------- ------- 35.7/43.6 MB 2.8 MB/s eta 0:00:03\n",
      "   --------------------------------- ------ 36.2/43.6 MB 2.8 MB/s eta 0:00:03\n",
      "   --------------------------------- ------ 36.7/43.6 MB 2.8 MB/s eta 0:00:03\n",
      "   --------------------------------- ------ 37.0/43.6 MB 2.8 MB/s eta 0:00:03\n",
      "   ---------------------------------- ----- 37.5/43.6 MB 2.8 MB/s eta 0:00:03\n",
      "   ---------------------------------- ----- 38.0/43.6 MB 2.8 MB/s eta 0:00:03\n",
      "   ----------------------------------- ---- 38.8/43.6 MB 2.8 MB/s eta 0:00:02\n",
      "   ------------------------------------ --- 39.3/43.6 MB 2.8 MB/s eta 0:00:02\n",
      "   ------------------------------------ --- 39.6/43.6 MB 2.8 MB/s eta 0:00:02\n",
      "   ------------------------------------- -- 40.4/43.6 MB 2.8 MB/s eta 0:00:02\n",
      "   ------------------------------------- -- 40.9/43.6 MB 2.8 MB/s eta 0:00:01\n",
      "   ------------------------------------- -- 41.4/43.6 MB 2.8 MB/s eta 0:00:01\n",
      "   -------------------------------------- - 41.9/43.6 MB 2.8 MB/s eta 0:00:01\n",
      "   -------------------------------------- - 42.5/43.6 MB 2.8 MB/s eta 0:00:01\n",
      "   ---------------------------------------  43.0/43.6 MB 2.8 MB/s eta 0:00:01\n",
      "   ---------------------------------------  43.5/43.6 MB 2.8 MB/s eta 0:00:01\n",
      "   ---------------------------------------  43.5/43.6 MB 2.8 MB/s eta 0:00:01\n",
      "   ---------------------------------------  43.5/43.6 MB 2.8 MB/s eta 0:00:01\n",
      "   ---------------------------------------  43.5/43.6 MB 2.8 MB/s eta 0:00:01\n",
      "   ---------------------------------------  43.5/43.6 MB 2.8 MB/s eta 0:00:01\n",
      "   ---------------------------------------  43.5/43.6 MB 2.8 MB/s eta 0:00:01\n",
      "   ---------------------------------------  43.5/43.6 MB 2.8 MB/s eta 0:00:01\n",
      "   ---------------------------------------  43.5/43.6 MB 2.8 MB/s eta 0:00:01\n",
      "   ---------------------------------------  43.5/43.6 MB 2.8 MB/s eta 0:00:01\n",
      "   ---------------------------------------  43.5/43.6 MB 2.8 MB/s eta 0:00:01\n",
      "   ---------------------------------------  43.5/43.6 MB 2.8 MB/s eta 0:00:01\n",
      "   ---------------------------------------  43.5/43.6 MB 2.8 MB/s eta 0:00:01\n",
      "   ---------------------------------------  43.5/43.6 MB 2.8 MB/s eta 0:00:01\n",
      "   ---------------------------------------  43.5/43.6 MB 2.8 MB/s eta 0:00:01\n",
      "   ---------------------------------------  43.5/43.6 MB 2.8 MB/s eta 0:00:01\n",
      "   ---------------------------------------- 43.6/43.6 MB 2.3 MB/s eta 0:00:00\n",
      "Installing collected packages: scipy\n",
      "Successfully installed scipy-1.15.0\n"
     ]
    }
   ],
   "source": [
    "!pip install scipy"
   ]
  },
  {
   "cell_type": "code",
   "execution_count": 46,
   "id": "3db72b52-6840-4a67-8838-040182b65d15",
   "metadata": {},
   "outputs": [],
   "source": [
    "import pandas as pd"
   ]
  },
  {
   "cell_type": "code",
   "execution_count": 47,
   "id": "7f86cb78-e427-4b0f-bd8f-729d7b41b5b1",
   "metadata": {},
   "outputs": [
    {
     "name": "stdout",
     "output_type": "stream",
     "text": [
      "Collecting scikit-learn\n",
      "  Downloading scikit_learn-1.6.0-cp312-cp312-win_amd64.whl.metadata (15 kB)\n",
      "Requirement already satisfied: numpy>=1.19.5 in c:\\users\\shubham\\anaconda3\\envs\\mllab_env\\lib\\site-packages (from scikit-learn) (2.2.1)\n",
      "Requirement already satisfied: scipy>=1.6.0 in c:\\users\\shubham\\anaconda3\\envs\\mllab_env\\lib\\site-packages (from scikit-learn) (1.15.0)\n",
      "Collecting joblib>=1.2.0 (from scikit-learn)\n",
      "  Downloading joblib-1.4.2-py3-none-any.whl.metadata (5.4 kB)\n",
      "Collecting threadpoolctl>=3.1.0 (from scikit-learn)\n",
      "  Downloading threadpoolctl-3.5.0-py3-none-any.whl.metadata (13 kB)\n",
      "Downloading scikit_learn-1.6.0-cp312-cp312-win_amd64.whl (11.1 MB)\n",
      "   ---------------------------------------- 0.0/11.1 MB ? eta -:--:--\n",
      "   ---------------------------------------- 0.0/11.1 MB ? eta -:--:--\n",
      "   - -------------------------------------- 0.5/11.1 MB 2.4 MB/s eta 0:00:05\n",
      "   -- ------------------------------------- 0.8/11.1 MB 2.8 MB/s eta 0:00:04\n",
      "   ----- ---------------------------------- 1.6/11.1 MB 2.7 MB/s eta 0:00:04\n",
      "   ------ --------------------------------- 1.8/11.1 MB 2.5 MB/s eta 0:00:04\n",
      "   ---------- ----------------------------- 2.9/11.1 MB 2.6 MB/s eta 0:00:04\n",
      "   ------------ --------------------------- 3.4/11.1 MB 2.8 MB/s eta 0:00:03\n",
      "   -------------- ------------------------- 3.9/11.1 MB 2.9 MB/s eta 0:00:03\n",
      "   ---------------- ----------------------- 4.7/11.1 MB 3.0 MB/s eta 0:00:03\n",
      "   ------------------ --------------------- 5.2/11.1 MB 2.9 MB/s eta 0:00:03\n",
      "   --------------------- ------------------ 6.0/11.1 MB 2.8 MB/s eta 0:00:02\n",
      "   ----------------------- ---------------- 6.6/11.1 MB 2.8 MB/s eta 0:00:02\n",
      "   ------------------------- -------------- 7.1/11.1 MB 2.9 MB/s eta 0:00:02\n",
      "   --------------------------- ------------ 7.6/11.1 MB 2.8 MB/s eta 0:00:02\n",
      "   ------------------------------ --------- 8.4/11.1 MB 2.8 MB/s eta 0:00:01\n",
      "   ------------------------------- -------- 8.7/11.1 MB 2.7 MB/s eta 0:00:01\n",
      "   --------------------------------- ------ 9.4/11.1 MB 2.7 MB/s eta 0:00:01\n",
      "   ----------------------------------- ---- 10.0/11.1 MB 2.8 MB/s eta 0:00:01\n",
      "   -------------------------------------- - 10.7/11.1 MB 2.8 MB/s eta 0:00:01\n",
      "   ---------------------------------------- 11.1/11.1 MB 2.8 MB/s eta 0:00:00\n",
      "Downloading joblib-1.4.2-py3-none-any.whl (301 kB)\n",
      "Downloading threadpoolctl-3.5.0-py3-none-any.whl (18 kB)\n",
      "Installing collected packages: threadpoolctl, joblib, scikit-learn\n",
      "Successfully installed joblib-1.4.2 scikit-learn-1.6.0 threadpoolctl-3.5.0\n"
     ]
    }
   ],
   "source": [
    "!pip install scikit-learn"
   ]
  },
  {
   "cell_type": "code",
   "execution_count": 48,
   "id": "9bc397ad-c4cf-4e5a-b0e2-3df664b8993f",
   "metadata": {},
   "outputs": [
    {
     "name": "stdout",
     "output_type": "stream",
     "text": [
      "Collecting matplotlib\n",
      "  Downloading matplotlib-3.10.0-cp312-cp312-win_amd64.whl.metadata (11 kB)\n",
      "Collecting contourpy>=1.0.1 (from matplotlib)\n",
      "  Downloading contourpy-1.3.1-cp312-cp312-win_amd64.whl.metadata (5.4 kB)\n",
      "Collecting cycler>=0.10 (from matplotlib)\n",
      "  Downloading cycler-0.12.1-py3-none-any.whl.metadata (3.8 kB)\n",
      "Collecting fonttools>=4.22.0 (from matplotlib)\n",
      "  Downloading fonttools-4.55.3-cp312-cp312-win_amd64.whl.metadata (168 kB)\n",
      "Collecting kiwisolver>=1.3.1 (from matplotlib)\n",
      "  Downloading kiwisolver-1.4.8-cp312-cp312-win_amd64.whl.metadata (6.3 kB)\n",
      "Requirement already satisfied: numpy>=1.23 in c:\\users\\shubham\\anaconda3\\envs\\mllab_env\\lib\\site-packages (from matplotlib) (2.2.1)\n",
      "Requirement already satisfied: packaging>=20.0 in c:\\users\\shubham\\anaconda3\\envs\\mllab_env\\lib\\site-packages (from matplotlib) (24.2)\n",
      "Collecting pillow>=8 (from matplotlib)\n",
      "  Downloading pillow-11.1.0-cp312-cp312-win_amd64.whl.metadata (9.3 kB)\n",
      "Collecting pyparsing>=2.3.1 (from matplotlib)\n",
      "  Downloading pyparsing-3.2.1-py3-none-any.whl.metadata (5.0 kB)\n",
      "Requirement already satisfied: python-dateutil>=2.7 in c:\\users\\shubham\\anaconda3\\envs\\mllab_env\\lib\\site-packages (from matplotlib) (2.9.0.post0)\n",
      "Requirement already satisfied: six>=1.5 in c:\\users\\shubham\\anaconda3\\envs\\mllab_env\\lib\\site-packages (from python-dateutil>=2.7->matplotlib) (1.16.0)\n",
      "Downloading matplotlib-3.10.0-cp312-cp312-win_amd64.whl (8.0 MB)\n",
      "   ---------------------------------------- 0.0/8.0 MB ? eta -:--:--\n",
      "   -- ------------------------------------- 0.5/8.0 MB 2.1 MB/s eta 0:00:04\n",
      "   --- ------------------------------------ 0.8/8.0 MB 2.1 MB/s eta 0:00:04\n",
      "   ------ --------------------------------- 1.3/8.0 MB 2.2 MB/s eta 0:00:04\n",
      "   --------- ------------------------------ 1.8/8.0 MB 2.3 MB/s eta 0:00:03\n",
      "   ----------- ---------------------------- 2.4/8.0 MB 2.4 MB/s eta 0:00:03\n",
      "   --------------- ------------------------ 3.1/8.0 MB 2.6 MB/s eta 0:00:02\n",
      "   ------------------- -------------------- 3.9/8.0 MB 2.7 MB/s eta 0:00:02\n",
      "   ---------------------- ----------------- 4.5/8.0 MB 2.8 MB/s eta 0:00:02\n",
      "   -------------------------- ------------- 5.2/8.0 MB 2.8 MB/s eta 0:00:01\n",
      "   ---------------------------- ----------- 5.8/8.0 MB 2.8 MB/s eta 0:00:01\n",
      "   -------------------------------- ------- 6.6/8.0 MB 2.9 MB/s eta 0:00:01\n",
      "   ----------------------------------- ---- 7.1/8.0 MB 2.9 MB/s eta 0:00:01\n",
      "   ---------------------------------------  7.9/8.0 MB 3.0 MB/s eta 0:00:01\n",
      "   ---------------------------------------- 8.0/8.0 MB 3.0 MB/s eta 0:00:00\n",
      "Downloading contourpy-1.3.1-cp312-cp312-win_amd64.whl (220 kB)\n",
      "Downloading cycler-0.12.1-py3-none-any.whl (8.3 kB)\n",
      "Downloading fonttools-4.55.3-cp312-cp312-win_amd64.whl (2.2 MB)\n",
      "   ---------------------------------------- 0.0/2.2 MB ? eta -:--:--\n",
      "   --------- ------------------------------ 0.5/2.2 MB 4.2 MB/s eta 0:00:01\n",
      "   ----------------------- ---------------- 1.3/2.2 MB 3.2 MB/s eta 0:00:01\n",
      "   --------------------------------- ------ 1.8/2.2 MB 3.1 MB/s eta 0:00:01\n",
      "   ---------------------------------------- 2.2/2.2 MB 3.0 MB/s eta 0:00:00\n",
      "Downloading kiwisolver-1.4.8-cp312-cp312-win_amd64.whl (71 kB)\n",
      "Downloading pillow-11.1.0-cp312-cp312-win_amd64.whl (2.6 MB)\n",
      "   ---------------------------------------- 0.0/2.6 MB ? eta -:--:--\n",
      "   ------- -------------------------------- 0.5/2.6 MB 1.9 MB/s eta 0:00:02\n",
      "   --------------- ------------------------ 1.0/2.6 MB 2.3 MB/s eta 0:00:01\n",
      "   --------------------------- ------------ 1.8/2.6 MB 2.7 MB/s eta 0:00:01\n",
      "   ----------------------------------- ---- 2.4/2.6 MB 2.9 MB/s eta 0:00:01\n",
      "   ---------------------------------------- 2.6/2.6 MB 2.9 MB/s eta 0:00:00\n",
      "Downloading pyparsing-3.2.1-py3-none-any.whl (107 kB)\n",
      "Installing collected packages: pyparsing, pillow, kiwisolver, fonttools, cycler, contourpy, matplotlib\n",
      "Successfully installed contourpy-1.3.1 cycler-0.12.1 fonttools-4.55.3 kiwisolver-1.4.8 matplotlib-3.10.0 pillow-11.1.0 pyparsing-3.2.1\n"
     ]
    }
   ],
   "source": [
    "!pip install matplotlib\n"
   ]
  },
  {
   "cell_type": "code",
   "execution_count": 49,
   "id": "f4aef3f0-bef5-4337-8269-2f98cf02697c",
   "metadata": {},
   "outputs": [
    {
     "name": "stdout",
     "output_type": "stream",
     "text": [
      "Collecting seaborn\n",
      "  Downloading seaborn-0.13.2-py3-none-any.whl.metadata (5.4 kB)\n",
      "Requirement already satisfied: numpy!=1.24.0,>=1.20 in c:\\users\\shubham\\anaconda3\\envs\\mllab_env\\lib\\site-packages (from seaborn) (2.2.1)\n",
      "Requirement already satisfied: pandas>=1.2 in c:\\users\\shubham\\anaconda3\\envs\\mllab_env\\lib\\site-packages (from seaborn) (2.2.3)\n",
      "Requirement already satisfied: matplotlib!=3.6.1,>=3.4 in c:\\users\\shubham\\anaconda3\\envs\\mllab_env\\lib\\site-packages (from seaborn) (3.10.0)\n",
      "Requirement already satisfied: contourpy>=1.0.1 in c:\\users\\shubham\\anaconda3\\envs\\mllab_env\\lib\\site-packages (from matplotlib!=3.6.1,>=3.4->seaborn) (1.3.1)\n",
      "Requirement already satisfied: cycler>=0.10 in c:\\users\\shubham\\anaconda3\\envs\\mllab_env\\lib\\site-packages (from matplotlib!=3.6.1,>=3.4->seaborn) (0.12.1)\n",
      "Requirement already satisfied: fonttools>=4.22.0 in c:\\users\\shubham\\anaconda3\\envs\\mllab_env\\lib\\site-packages (from matplotlib!=3.6.1,>=3.4->seaborn) (4.55.3)\n",
      "Requirement already satisfied: kiwisolver>=1.3.1 in c:\\users\\shubham\\anaconda3\\envs\\mllab_env\\lib\\site-packages (from matplotlib!=3.6.1,>=3.4->seaborn) (1.4.8)\n",
      "Requirement already satisfied: packaging>=20.0 in c:\\users\\shubham\\anaconda3\\envs\\mllab_env\\lib\\site-packages (from matplotlib!=3.6.1,>=3.4->seaborn) (24.2)\n",
      "Requirement already satisfied: pillow>=8 in c:\\users\\shubham\\anaconda3\\envs\\mllab_env\\lib\\site-packages (from matplotlib!=3.6.1,>=3.4->seaborn) (11.1.0)\n",
      "Requirement already satisfied: pyparsing>=2.3.1 in c:\\users\\shubham\\anaconda3\\envs\\mllab_env\\lib\\site-packages (from matplotlib!=3.6.1,>=3.4->seaborn) (3.2.1)\n",
      "Requirement already satisfied: python-dateutil>=2.7 in c:\\users\\shubham\\anaconda3\\envs\\mllab_env\\lib\\site-packages (from matplotlib!=3.6.1,>=3.4->seaborn) (2.9.0.post0)\n",
      "Requirement already satisfied: pytz>=2020.1 in c:\\users\\shubham\\anaconda3\\envs\\mllab_env\\lib\\site-packages (from pandas>=1.2->seaborn) (2024.1)\n",
      "Requirement already satisfied: tzdata>=2022.7 in c:\\users\\shubham\\anaconda3\\envs\\mllab_env\\lib\\site-packages (from pandas>=1.2->seaborn) (2024.2)\n",
      "Requirement already satisfied: six>=1.5 in c:\\users\\shubham\\anaconda3\\envs\\mllab_env\\lib\\site-packages (from python-dateutil>=2.7->matplotlib!=3.6.1,>=3.4->seaborn) (1.16.0)\n",
      "Downloading seaborn-0.13.2-py3-none-any.whl (294 kB)\n",
      "Installing collected packages: seaborn\n",
      "Successfully installed seaborn-0.13.2\n"
     ]
    }
   ],
   "source": [
    "!pip install seaborn"
   ]
  },
  {
   "cell_type": "code",
   "execution_count": 50,
   "id": "8959b77b-c96c-4358-aac6-4a271032cc31",
   "metadata": {},
   "outputs": [],
   "source": [
    "import seaborn as sns\n"
   ]
  },
  {
   "cell_type": "markdown",
   "id": "698d8793",
   "metadata": {},
   "source": [
    "# lets dive into loops\n"
   ]
  },
  {
   "cell_type": "code",
   "execution_count": 1,
   "id": "32a344b7",
   "metadata": {},
   "outputs": [
    {
     "name": "stdout",
     "output_type": "stream",
     "text": [
      "printing a table! What table do u want to prove? \n",
      "5\n",
      "5 X 1 = 5\n",
      "5 X 2 = 10\n",
      "5 X 3 = 15\n",
      "5 X 4 = 20\n",
      "5 X 5 = 25\n",
      "5 X 6 = 30\n",
      "5 X 7 = 35\n",
      "5 X 8 = 40\n",
      "5 X 9 = 45\n",
      "5 X 10 = 50\n",
      "Ho Gaya\n"
     ]
    }
   ],
   "source": [
    "# while loop\n",
    "print(\"printing a table! What table do u want to prove? \")\n",
    "num = int(input())\n",
    "i=1\n",
    "while(i<=10):\n",
    "    print(num,'X',i,'=',num*i)\n",
    "    i=i+1\n",
    "print(\"Ho Gaya\")"
   ]
  },
  {
   "cell_type": "code",
   "execution_count": 5,
   "id": "4a0a0731",
   "metadata": {},
   "outputs": [
    {
     "name": "stdout",
     "output_type": "stream",
     "text": [
      "1\n",
      "3\n",
      "6\n",
      "10\n",
      "15\n",
      "21\n",
      "28\n",
      "36\n",
      "45\n"
     ]
    }
   ],
   "source": [
    "# for loop\n",
    "sum = 0\n",
    "for i in range(1,10):\n",
    "    sum = sum+i\n",
    "    print(sum)\n",
    "    \n",
    "# print(sum)"
   ]
  },
  {
   "cell_type": "code",
   "execution_count": null,
   "id": "11f05fa3",
   "metadata": {},
   "outputs": [],
   "source": []
  }
 ],
 "metadata": {
  "kernelspec": {
   "display_name": "mllab_env",
   "language": "python",
   "name": "mllab_env"
  },
  "language_info": {
   "codemirror_mode": {
    "name": "ipython",
    "version": 3
   },
   "file_extension": ".py",
   "mimetype": "text/x-python",
   "name": "python",
   "nbconvert_exporter": "python",
   "pygments_lexer": "ipython3",
   "version": "3.12.8"
  }
 },
 "nbformat": 4,
 "nbformat_minor": 5
}
