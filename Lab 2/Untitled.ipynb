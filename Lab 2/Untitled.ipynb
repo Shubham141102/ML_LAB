{
 "cells": [
  {
   "cell_type": "markdown",
   "id": "8980a8b1",
   "metadata": {},
   "source": [
    "# Importing Packages\n"
   ]
  },
  {
   "cell_type": "code",
   "execution_count": 1,
   "id": "76b76c1c",
   "metadata": {},
   "outputs": [],
   "source": [
    "import numpy as np"
   ]
  },
  {
   "cell_type": "code",
   "execution_count": 2,
   "id": "5ac0d705",
   "metadata": {},
   "outputs": [],
   "source": [
    "import pandas as pd"
   ]
  },
  {
   "cell_type": "code",
   "execution_count": 5,
   "id": "9d5df030",
   "metadata": {},
   "outputs": [],
   "source": [
    "import matplotlib.pyplot as plt"
   ]
  },
  {
   "cell_type": "markdown",
   "id": "cfbd1f0d",
   "metadata": {},
   "source": [
    "# Reading the csv file"
   ]
  },
  {
   "cell_type": "code",
   "execution_count": 6,
   "id": "c80c767c",
   "metadata": {},
   "outputs": [],
   "source": [
    "df = pd.read_csv(\"housingdata.csv\")"
   ]
  },
  {
   "cell_type": "code",
   "execution_count": 7,
   "id": "0fa334d8",
   "metadata": {},
   "outputs": [
    {
     "data": {
      "text/html": [
       "<div>\n",
       "<style scoped>\n",
       "    .dataframe tbody tr th:only-of-type {\n",
       "        vertical-align: middle;\n",
       "    }\n",
       "\n",
       "    .dataframe tbody tr th {\n",
       "        vertical-align: top;\n",
       "    }\n",
       "\n",
       "    .dataframe thead th {\n",
       "        text-align: right;\n",
       "    }\n",
       "</style>\n",
       "<table border=\"1\" class=\"dataframe\">\n",
       "  <thead>\n",
       "    <tr style=\"text-align: right;\">\n",
       "      <th></th>\n",
       "      <th>Area</th>\n",
       "      <th>NoOfBedRooms</th>\n",
       "      <th>Price</th>\n",
       "    </tr>\n",
       "  </thead>\n",
       "  <tbody>\n",
       "    <tr>\n",
       "      <th>0</th>\n",
       "      <td>2104</td>\n",
       "      <td>3</td>\n",
       "      <td>399900</td>\n",
       "    </tr>\n",
       "    <tr>\n",
       "      <th>1</th>\n",
       "      <td>1600</td>\n",
       "      <td>3</td>\n",
       "      <td>329900</td>\n",
       "    </tr>\n",
       "    <tr>\n",
       "      <th>2</th>\n",
       "      <td>2400</td>\n",
       "      <td>3</td>\n",
       "      <td>369000</td>\n",
       "    </tr>\n",
       "    <tr>\n",
       "      <th>3</th>\n",
       "      <td>1416</td>\n",
       "      <td>2</td>\n",
       "      <td>232000</td>\n",
       "    </tr>\n",
       "    <tr>\n",
       "      <th>4</th>\n",
       "      <td>3000</td>\n",
       "      <td>4</td>\n",
       "      <td>539900</td>\n",
       "    </tr>\n",
       "    <tr>\n",
       "      <th>5</th>\n",
       "      <td>1985</td>\n",
       "      <td>4</td>\n",
       "      <td>299900</td>\n",
       "    </tr>\n",
       "    <tr>\n",
       "      <th>6</th>\n",
       "      <td>1534</td>\n",
       "      <td>3</td>\n",
       "      <td>314900</td>\n",
       "    </tr>\n",
       "    <tr>\n",
       "      <th>7</th>\n",
       "      <td>1427</td>\n",
       "      <td>3</td>\n",
       "      <td>198999</td>\n",
       "    </tr>\n",
       "    <tr>\n",
       "      <th>8</th>\n",
       "      <td>1380</td>\n",
       "      <td>3</td>\n",
       "      <td>212000</td>\n",
       "    </tr>\n",
       "    <tr>\n",
       "      <th>9</th>\n",
       "      <td>1494</td>\n",
       "      <td>3</td>\n",
       "      <td>242500</td>\n",
       "    </tr>\n",
       "    <tr>\n",
       "      <th>10</th>\n",
       "      <td>1940</td>\n",
       "      <td>4</td>\n",
       "      <td>239999</td>\n",
       "    </tr>\n",
       "    <tr>\n",
       "      <th>11</th>\n",
       "      <td>2000</td>\n",
       "      <td>3</td>\n",
       "      <td>347000</td>\n",
       "    </tr>\n",
       "    <tr>\n",
       "      <th>12</th>\n",
       "      <td>1890</td>\n",
       "      <td>3</td>\n",
       "      <td>329999</td>\n",
       "    </tr>\n",
       "    <tr>\n",
       "      <th>13</th>\n",
       "      <td>4478</td>\n",
       "      <td>5</td>\n",
       "      <td>699900</td>\n",
       "    </tr>\n",
       "    <tr>\n",
       "      <th>14</th>\n",
       "      <td>1268</td>\n",
       "      <td>3</td>\n",
       "      <td>259900</td>\n",
       "    </tr>\n",
       "    <tr>\n",
       "      <th>15</th>\n",
       "      <td>2300</td>\n",
       "      <td>4</td>\n",
       "      <td>449900</td>\n",
       "    </tr>\n",
       "    <tr>\n",
       "      <th>16</th>\n",
       "      <td>1320</td>\n",
       "      <td>2</td>\n",
       "      <td>299900</td>\n",
       "    </tr>\n",
       "    <tr>\n",
       "      <th>17</th>\n",
       "      <td>1236</td>\n",
       "      <td>3</td>\n",
       "      <td>199900</td>\n",
       "    </tr>\n",
       "    <tr>\n",
       "      <th>18</th>\n",
       "      <td>2609</td>\n",
       "      <td>4</td>\n",
       "      <td>499998</td>\n",
       "    </tr>\n",
       "    <tr>\n",
       "      <th>19</th>\n",
       "      <td>3031</td>\n",
       "      <td>4</td>\n",
       "      <td>599000</td>\n",
       "    </tr>\n",
       "    <tr>\n",
       "      <th>20</th>\n",
       "      <td>1767</td>\n",
       "      <td>3</td>\n",
       "      <td>252900</td>\n",
       "    </tr>\n",
       "    <tr>\n",
       "      <th>21</th>\n",
       "      <td>1888</td>\n",
       "      <td>2</td>\n",
       "      <td>255000</td>\n",
       "    </tr>\n",
       "    <tr>\n",
       "      <th>22</th>\n",
       "      <td>1604</td>\n",
       "      <td>3</td>\n",
       "      <td>242900</td>\n",
       "    </tr>\n",
       "    <tr>\n",
       "      <th>23</th>\n",
       "      <td>1962</td>\n",
       "      <td>4</td>\n",
       "      <td>259900</td>\n",
       "    </tr>\n",
       "    <tr>\n",
       "      <th>24</th>\n",
       "      <td>3890</td>\n",
       "      <td>3</td>\n",
       "      <td>573900</td>\n",
       "    </tr>\n",
       "    <tr>\n",
       "      <th>25</th>\n",
       "      <td>1100</td>\n",
       "      <td>3</td>\n",
       "      <td>249900</td>\n",
       "    </tr>\n",
       "    <tr>\n",
       "      <th>26</th>\n",
       "      <td>1458</td>\n",
       "      <td>3</td>\n",
       "      <td>464500</td>\n",
       "    </tr>\n",
       "    <tr>\n",
       "      <th>27</th>\n",
       "      <td>2526</td>\n",
       "      <td>3</td>\n",
       "      <td>469000</td>\n",
       "    </tr>\n",
       "    <tr>\n",
       "      <th>28</th>\n",
       "      <td>2200</td>\n",
       "      <td>3</td>\n",
       "      <td>475000</td>\n",
       "    </tr>\n",
       "    <tr>\n",
       "      <th>29</th>\n",
       "      <td>2637</td>\n",
       "      <td>3</td>\n",
       "      <td>299900</td>\n",
       "    </tr>\n",
       "    <tr>\n",
       "      <th>30</th>\n",
       "      <td>1839</td>\n",
       "      <td>2</td>\n",
       "      <td>349900</td>\n",
       "    </tr>\n",
       "    <tr>\n",
       "      <th>31</th>\n",
       "      <td>1000</td>\n",
       "      <td>1</td>\n",
       "      <td>169900</td>\n",
       "    </tr>\n",
       "    <tr>\n",
       "      <th>32</th>\n",
       "      <td>2040</td>\n",
       "      <td>4</td>\n",
       "      <td>314900</td>\n",
       "    </tr>\n",
       "    <tr>\n",
       "      <th>33</th>\n",
       "      <td>3137</td>\n",
       "      <td>3</td>\n",
       "      <td>579900</td>\n",
       "    </tr>\n",
       "    <tr>\n",
       "      <th>34</th>\n",
       "      <td>1811</td>\n",
       "      <td>4</td>\n",
       "      <td>285900</td>\n",
       "    </tr>\n",
       "    <tr>\n",
       "      <th>35</th>\n",
       "      <td>1437</td>\n",
       "      <td>3</td>\n",
       "      <td>249900</td>\n",
       "    </tr>\n",
       "    <tr>\n",
       "      <th>36</th>\n",
       "      <td>1239</td>\n",
       "      <td>3</td>\n",
       "      <td>229900</td>\n",
       "    </tr>\n",
       "    <tr>\n",
       "      <th>37</th>\n",
       "      <td>2132</td>\n",
       "      <td>4</td>\n",
       "      <td>345000</td>\n",
       "    </tr>\n",
       "    <tr>\n",
       "      <th>38</th>\n",
       "      <td>4215</td>\n",
       "      <td>4</td>\n",
       "      <td>549000</td>\n",
       "    </tr>\n",
       "    <tr>\n",
       "      <th>39</th>\n",
       "      <td>2162</td>\n",
       "      <td>4</td>\n",
       "      <td>287000</td>\n",
       "    </tr>\n",
       "    <tr>\n",
       "      <th>40</th>\n",
       "      <td>1664</td>\n",
       "      <td>2</td>\n",
       "      <td>368500</td>\n",
       "    </tr>\n",
       "    <tr>\n",
       "      <th>41</th>\n",
       "      <td>2238</td>\n",
       "      <td>3</td>\n",
       "      <td>329900</td>\n",
       "    </tr>\n",
       "    <tr>\n",
       "      <th>42</th>\n",
       "      <td>2567</td>\n",
       "      <td>4</td>\n",
       "      <td>314000</td>\n",
       "    </tr>\n",
       "    <tr>\n",
       "      <th>43</th>\n",
       "      <td>1200</td>\n",
       "      <td>3</td>\n",
       "      <td>299000</td>\n",
       "    </tr>\n",
       "    <tr>\n",
       "      <th>44</th>\n",
       "      <td>852</td>\n",
       "      <td>2</td>\n",
       "      <td>179900</td>\n",
       "    </tr>\n",
       "    <tr>\n",
       "      <th>45</th>\n",
       "      <td>1852</td>\n",
       "      <td>4</td>\n",
       "      <td>299900</td>\n",
       "    </tr>\n",
       "    <tr>\n",
       "      <th>46</th>\n",
       "      <td>1203</td>\n",
       "      <td>3</td>\n",
       "      <td>239500</td>\n",
       "    </tr>\n",
       "  </tbody>\n",
       "</table>\n",
       "</div>"
      ],
      "text/plain": [
       "    Area  NoOfBedRooms   Price\n",
       "0   2104             3  399900\n",
       "1   1600             3  329900\n",
       "2   2400             3  369000\n",
       "3   1416             2  232000\n",
       "4   3000             4  539900\n",
       "5   1985             4  299900\n",
       "6   1534             3  314900\n",
       "7   1427             3  198999\n",
       "8   1380             3  212000\n",
       "9   1494             3  242500\n",
       "10  1940             4  239999\n",
       "11  2000             3  347000\n",
       "12  1890             3  329999\n",
       "13  4478             5  699900\n",
       "14  1268             3  259900\n",
       "15  2300             4  449900\n",
       "16  1320             2  299900\n",
       "17  1236             3  199900\n",
       "18  2609             4  499998\n",
       "19  3031             4  599000\n",
       "20  1767             3  252900\n",
       "21  1888             2  255000\n",
       "22  1604             3  242900\n",
       "23  1962             4  259900\n",
       "24  3890             3  573900\n",
       "25  1100             3  249900\n",
       "26  1458             3  464500\n",
       "27  2526             3  469000\n",
       "28  2200             3  475000\n",
       "29  2637             3  299900\n",
       "30  1839             2  349900\n",
       "31  1000             1  169900\n",
       "32  2040             4  314900\n",
       "33  3137             3  579900\n",
       "34  1811             4  285900\n",
       "35  1437             3  249900\n",
       "36  1239             3  229900\n",
       "37  2132             4  345000\n",
       "38  4215             4  549000\n",
       "39  2162             4  287000\n",
       "40  1664             2  368500\n",
       "41  2238             3  329900\n",
       "42  2567             4  314000\n",
       "43  1200             3  299000\n",
       "44   852             2  179900\n",
       "45  1852             4  299900\n",
       "46  1203             3  239500"
      ]
     },
     "execution_count": 7,
     "metadata": {},
     "output_type": "execute_result"
    }
   ],
   "source": [
    "df"
   ]
  },
  {
   "cell_type": "code",
   "execution_count": 9,
   "id": "1217c8bf",
   "metadata": {},
   "outputs": [
    {
     "data": {
      "text/html": [
       "<div>\n",
       "<style scoped>\n",
       "    .dataframe tbody tr th:only-of-type {\n",
       "        vertical-align: middle;\n",
       "    }\n",
       "\n",
       "    .dataframe tbody tr th {\n",
       "        vertical-align: top;\n",
       "    }\n",
       "\n",
       "    .dataframe thead th {\n",
       "        text-align: right;\n",
       "    }\n",
       "</style>\n",
       "<table border=\"1\" class=\"dataframe\">\n",
       "  <thead>\n",
       "    <tr style=\"text-align: right;\">\n",
       "      <th></th>\n",
       "      <th>Area</th>\n",
       "      <th>NoOfBedRooms</th>\n",
       "      <th>Price</th>\n",
       "    </tr>\n",
       "  </thead>\n",
       "  <tbody>\n",
       "    <tr>\n",
       "      <th>0</th>\n",
       "      <td>2104</td>\n",
       "      <td>3</td>\n",
       "      <td>399900</td>\n",
       "    </tr>\n",
       "    <tr>\n",
       "      <th>1</th>\n",
       "      <td>1600</td>\n",
       "      <td>3</td>\n",
       "      <td>329900</td>\n",
       "    </tr>\n",
       "    <tr>\n",
       "      <th>2</th>\n",
       "      <td>2400</td>\n",
       "      <td>3</td>\n",
       "      <td>369000</td>\n",
       "    </tr>\n",
       "    <tr>\n",
       "      <th>3</th>\n",
       "      <td>1416</td>\n",
       "      <td>2</td>\n",
       "      <td>232000</td>\n",
       "    </tr>\n",
       "    <tr>\n",
       "      <th>4</th>\n",
       "      <td>3000</td>\n",
       "      <td>4</td>\n",
       "      <td>539900</td>\n",
       "    </tr>\n",
       "  </tbody>\n",
       "</table>\n",
       "</div>"
      ],
      "text/plain": [
       "   Area  NoOfBedRooms   Price\n",
       "0  2104             3  399900\n",
       "1  1600             3  329900\n",
       "2  2400             3  369000\n",
       "3  1416             2  232000\n",
       "4  3000             4  539900"
      ]
     },
     "execution_count": 9,
     "metadata": {},
     "output_type": "execute_result"
    }
   ],
   "source": [
    "df.head(5)\n"
   ]
  },
  {
   "cell_type": "code",
   "execution_count": 10,
   "id": "7a08fde3",
   "metadata": {},
   "outputs": [
    {
     "data": {
      "text/html": [
       "<div>\n",
       "<style scoped>\n",
       "    .dataframe tbody tr th:only-of-type {\n",
       "        vertical-align: middle;\n",
       "    }\n",
       "\n",
       "    .dataframe tbody tr th {\n",
       "        vertical-align: top;\n",
       "    }\n",
       "\n",
       "    .dataframe thead th {\n",
       "        text-align: right;\n",
       "    }\n",
       "</style>\n",
       "<table border=\"1\" class=\"dataframe\">\n",
       "  <thead>\n",
       "    <tr style=\"text-align: right;\">\n",
       "      <th></th>\n",
       "      <th>Area</th>\n",
       "      <th>NoOfBedRooms</th>\n",
       "      <th>Price</th>\n",
       "    </tr>\n",
       "  </thead>\n",
       "  <tbody>\n",
       "    <tr>\n",
       "      <th>42</th>\n",
       "      <td>2567</td>\n",
       "      <td>4</td>\n",
       "      <td>314000</td>\n",
       "    </tr>\n",
       "    <tr>\n",
       "      <th>43</th>\n",
       "      <td>1200</td>\n",
       "      <td>3</td>\n",
       "      <td>299000</td>\n",
       "    </tr>\n",
       "    <tr>\n",
       "      <th>44</th>\n",
       "      <td>852</td>\n",
       "      <td>2</td>\n",
       "      <td>179900</td>\n",
       "    </tr>\n",
       "    <tr>\n",
       "      <th>45</th>\n",
       "      <td>1852</td>\n",
       "      <td>4</td>\n",
       "      <td>299900</td>\n",
       "    </tr>\n",
       "    <tr>\n",
       "      <th>46</th>\n",
       "      <td>1203</td>\n",
       "      <td>3</td>\n",
       "      <td>239500</td>\n",
       "    </tr>\n",
       "  </tbody>\n",
       "</table>\n",
       "</div>"
      ],
      "text/plain": [
       "    Area  NoOfBedRooms   Price\n",
       "42  2567             4  314000\n",
       "43  1200             3  299000\n",
       "44   852             2  179900\n",
       "45  1852             4  299900\n",
       "46  1203             3  239500"
      ]
     },
     "execution_count": 10,
     "metadata": {},
     "output_type": "execute_result"
    }
   ],
   "source": [
    "df.tail(5)"
   ]
  },
  {
   "cell_type": "code",
   "execution_count": 12,
   "id": "82dbc834",
   "metadata": {},
   "outputs": [
    {
     "data": {
      "text/html": [
       "<div>\n",
       "<style scoped>\n",
       "    .dataframe tbody tr th:only-of-type {\n",
       "        vertical-align: middle;\n",
       "    }\n",
       "\n",
       "    .dataframe tbody tr th {\n",
       "        vertical-align: top;\n",
       "    }\n",
       "\n",
       "    .dataframe thead th {\n",
       "        text-align: right;\n",
       "    }\n",
       "</style>\n",
       "<table border=\"1\" class=\"dataframe\">\n",
       "  <thead>\n",
       "    <tr style=\"text-align: right;\">\n",
       "      <th></th>\n",
       "      <th>Area</th>\n",
       "      <th>NoOfBedRooms</th>\n",
       "      <th>Price</th>\n",
       "    </tr>\n",
       "  </thead>\n",
       "  <tbody>\n",
       "    <tr>\n",
       "      <th>count</th>\n",
       "      <td>47.000000</td>\n",
       "      <td>47.000000</td>\n",
       "      <td>47.000000</td>\n",
       "    </tr>\n",
       "    <tr>\n",
       "      <th>mean</th>\n",
       "      <td>2000.680851</td>\n",
       "      <td>3.170213</td>\n",
       "      <td>340412.659574</td>\n",
       "    </tr>\n",
       "    <tr>\n",
       "      <th>std</th>\n",
       "      <td>794.702354</td>\n",
       "      <td>0.760982</td>\n",
       "      <td>125039.899586</td>\n",
       "    </tr>\n",
       "    <tr>\n",
       "      <th>min</th>\n",
       "      <td>852.000000</td>\n",
       "      <td>1.000000</td>\n",
       "      <td>169900.000000</td>\n",
       "    </tr>\n",
       "    <tr>\n",
       "      <th>25%</th>\n",
       "      <td>1432.000000</td>\n",
       "      <td>3.000000</td>\n",
       "      <td>249900.000000</td>\n",
       "    </tr>\n",
       "    <tr>\n",
       "      <th>50%</th>\n",
       "      <td>1888.000000</td>\n",
       "      <td>3.000000</td>\n",
       "      <td>299900.000000</td>\n",
       "    </tr>\n",
       "    <tr>\n",
       "      <th>75%</th>\n",
       "      <td>2269.000000</td>\n",
       "      <td>4.000000</td>\n",
       "      <td>384450.000000</td>\n",
       "    </tr>\n",
       "    <tr>\n",
       "      <th>max</th>\n",
       "      <td>4478.000000</td>\n",
       "      <td>5.000000</td>\n",
       "      <td>699900.000000</td>\n",
       "    </tr>\n",
       "  </tbody>\n",
       "</table>\n",
       "</div>"
      ],
      "text/plain": [
       "              Area  NoOfBedRooms          Price\n",
       "count    47.000000     47.000000      47.000000\n",
       "mean   2000.680851      3.170213  340412.659574\n",
       "std     794.702354      0.760982  125039.899586\n",
       "min     852.000000      1.000000  169900.000000\n",
       "25%    1432.000000      3.000000  249900.000000\n",
       "50%    1888.000000      3.000000  299900.000000\n",
       "75%    2269.000000      4.000000  384450.000000\n",
       "max    4478.000000      5.000000  699900.000000"
      ]
     },
     "execution_count": 12,
     "metadata": {},
     "output_type": "execute_result"
    }
   ],
   "source": [
    "df.describe()"
   ]
  },
  {
   "cell_type": "code",
   "execution_count": 14,
   "id": "7882efaf",
   "metadata": {},
   "outputs": [
    {
     "data": {
      "text/plain": [
       "(47, 3)"
      ]
     },
     "execution_count": 14,
     "metadata": {},
     "output_type": "execute_result"
    }
   ],
   "source": [
    "df.shape"
   ]
  },
  {
   "cell_type": "code",
   "execution_count": 16,
   "id": "21e25b55",
   "metadata": {},
   "outputs": [],
   "source": [
    "# from sklearn.model_selection import train_test_split"
   ]
  },
  {
   "cell_type": "code",
   "execution_count": 17,
   "id": "4c1f64ca",
   "metadata": {},
   "outputs": [],
   "source": [
    "x = df['Area']"
   ]
  },
  {
   "cell_type": "code",
   "execution_count": 19,
   "id": "4ba6c0e2",
   "metadata": {},
   "outputs": [
    {
     "data": {
      "text/plain": [
       "0    2104\n",
       "1    1600\n",
       "2    2400\n",
       "3    1416\n",
       "4    3000\n",
       "Name: Area, dtype: int64"
      ]
     },
     "execution_count": 19,
     "metadata": {},
     "output_type": "execute_result"
    }
   ],
   "source": [
    "x.head(5)"
   ]
  },
  {
   "cell_type": "code",
   "execution_count": 20,
   "id": "b81c701c",
   "metadata": {},
   "outputs": [],
   "source": [
    "y = df['Price']"
   ]
  },
  {
   "cell_type": "code",
   "execution_count": 21,
   "id": "a4260b25",
   "metadata": {},
   "outputs": [
    {
     "data": {
      "text/plain": [
       "0    399900\n",
       "1    329900\n",
       "2    369000\n",
       "3    232000\n",
       "4    539900\n",
       "Name: Price, dtype: int64"
      ]
     },
     "execution_count": 21,
     "metadata": {},
     "output_type": "execute_result"
    }
   ],
   "source": [
    "y.head(5)"
   ]
  },
  {
   "cell_type": "markdown",
   "id": "8350d14d",
   "metadata": {},
   "source": [
    "# Defining x_train and y_train"
   ]
  },
  {
   "cell_type": "code",
   "execution_count": 25,
   "id": "2069e40f",
   "metadata": {},
   "outputs": [],
   "source": [
    "x_train = x\n",
    "y_train = y"
   ]
  },
  {
   "cell_type": "code",
   "execution_count": 26,
   "id": "9bb04a5a",
   "metadata": {},
   "outputs": [
    {
     "data": {
      "text/plain": [
       "0    2104\n",
       "1    1600\n",
       "2    2400\n",
       "3    1416\n",
       "4    3000\n",
       "Name: Area, dtype: int64"
      ]
     },
     "execution_count": 26,
     "metadata": {},
     "output_type": "execute_result"
    }
   ],
   "source": [
    "x_train.head(5)"
   ]
  },
  {
   "cell_type": "code",
   "execution_count": 28,
   "id": "112b7c71",
   "metadata": {},
   "outputs": [
    {
     "data": {
      "text/plain": [
       "0    399900\n",
       "1    329900\n",
       "2    369000\n",
       "3    232000\n",
       "4    539900\n",
       "Name: Price, dtype: int64"
      ]
     },
     "execution_count": 28,
     "metadata": {},
     "output_type": "execute_result"
    }
   ],
   "source": [
    "y_train.head(5)"
   ]
  },
  {
   "cell_type": "markdown",
   "id": "6e332e7a",
   "metadata": {},
   "source": [
    "# Displaying the shape of X_train and Y_train"
   ]
  },
  {
   "cell_type": "code",
   "execution_count": 33,
   "id": "fd63a2b1",
   "metadata": {},
   "outputs": [
    {
     "name": "stdout",
     "output_type": "stream",
     "text": [
      "the shape of x_train is: (47,)\n",
      "the shape of y_train is: (47,)\n"
     ]
    }
   ],
   "source": [
    "print(\"the shape of x_train is:\",x_train.shape)\n",
    "print(\"the shape of y_train is:\",y_train.shape)"
   ]
  },
  {
   "cell_type": "markdown",
   "id": "58c98415",
   "metadata": {},
   "source": [
    "# Displaying the count of x_train and Y_train"
   ]
  },
  {
   "cell_type": "code",
   "execution_count": 37,
   "id": "ccae394f",
   "metadata": {},
   "outputs": [
    {
     "name": "stdout",
     "output_type": "stream",
     "text": [
      "the count of the training examples in x_train is: 47\n"
     ]
    }
   ],
   "source": [
    "print(\"the count of the training examples in x_train is:\",x_train.count())"
   ]
  },
  {
   "cell_type": "code",
   "execution_count": 38,
   "id": "2417dfb0",
   "metadata": {},
   "outputs": [
    {
     "name": "stdout",
     "output_type": "stream",
     "text": [
      "the count of the training examples in y_train is: 47\n"
     ]
    }
   ],
   "source": [
    "print(\"the count of the training examples in y_train is:\",y_train.count())"
   ]
  },
  {
   "cell_type": "markdown",
   "id": "ffdf93f8",
   "metadata": {},
   "source": [
    "# displaying the corresponding training examples"
   ]
  },
  {
   "cell_type": "code",
   "execution_count": 39,
   "id": "2b12e842",
   "metadata": {},
   "outputs": [
    {
     "data": {
      "text/plain": [
       "0     2104\n",
       "1     1600\n",
       "2     2400\n",
       "3     1416\n",
       "4     3000\n",
       "5     1985\n",
       "6     1534\n",
       "7     1427\n",
       "8     1380\n",
       "9     1494\n",
       "10    1940\n",
       "11    2000\n",
       "12    1890\n",
       "13    4478\n",
       "14    1268\n",
       "15    2300\n",
       "16    1320\n",
       "17    1236\n",
       "18    2609\n",
       "19    3031\n",
       "20    1767\n",
       "21    1888\n",
       "22    1604\n",
       "23    1962\n",
       "24    3890\n",
       "25    1100\n",
       "26    1458\n",
       "27    2526\n",
       "28    2200\n",
       "29    2637\n",
       "30    1839\n",
       "31    1000\n",
       "32    2040\n",
       "33    3137\n",
       "34    1811\n",
       "35    1437\n",
       "36    1239\n",
       "37    2132\n",
       "38    4215\n",
       "39    2162\n",
       "40    1664\n",
       "41    2238\n",
       "42    2567\n",
       "43    1200\n",
       "44     852\n",
       "45    1852\n",
       "46    1203\n",
       "Name: Area, dtype: int64"
      ]
     },
     "execution_count": 39,
     "metadata": {},
     "output_type": "execute_result"
    }
   ],
   "source": [
    "x_train"
   ]
  },
  {
   "cell_type": "code",
   "execution_count": 41,
   "id": "b6785924",
   "metadata": {},
   "outputs": [
    {
     "data": {
      "text/plain": [
       "0     399900\n",
       "1     329900\n",
       "2     369000\n",
       "3     232000\n",
       "4     539900\n",
       "5     299900\n",
       "6     314900\n",
       "7     198999\n",
       "8     212000\n",
       "9     242500\n",
       "10    239999\n",
       "11    347000\n",
       "12    329999\n",
       "13    699900\n",
       "14    259900\n",
       "15    449900\n",
       "16    299900\n",
       "17    199900\n",
       "18    499998\n",
       "19    599000\n",
       "20    252900\n",
       "21    255000\n",
       "22    242900\n",
       "23    259900\n",
       "24    573900\n",
       "25    249900\n",
       "26    464500\n",
       "27    469000\n",
       "28    475000\n",
       "29    299900\n",
       "30    349900\n",
       "31    169900\n",
       "32    314900\n",
       "33    579900\n",
       "34    285900\n",
       "35    249900\n",
       "36    229900\n",
       "37    345000\n",
       "38    549000\n",
       "39    287000\n",
       "40    368500\n",
       "41    329900\n",
       "42    314000\n",
       "43    299000\n",
       "44    179900\n",
       "45    299900\n",
       "46    239500\n",
       "Name: Price, dtype: int64"
      ]
     },
     "execution_count": 41,
     "metadata": {},
     "output_type": "execute_result"
    }
   ],
   "source": [
    "y_train"
   ]
  },
  {
   "cell_type": "code",
   "execution_count": 168,
   "id": "d413c6b5",
   "metadata": {},
   "outputs": [
    {
     "name": "stdout",
     "output_type": "stream",
     "text": [
      "0     2104\n",
      "1     1600\n",
      "2     2400\n",
      "3     1416\n",
      "4     3000\n",
      "5     1985\n",
      "6     1534\n",
      "7     1427\n",
      "8     1380\n",
      "9     1494\n",
      "10    1940\n",
      "11    2000\n",
      "12    1890\n",
      "13    4478\n",
      "14    1268\n",
      "15    2300\n",
      "16    1320\n",
      "17    1236\n",
      "18    2609\n",
      "19    3031\n",
      "20    1767\n",
      "21    1888\n",
      "22    1604\n",
      "23    1962\n",
      "24    3890\n",
      "25    1100\n",
      "26    1458\n",
      "27    2526\n",
      "28    2200\n",
      "29    2637\n",
      "30    1839\n",
      "31    1000\n",
      "32    2040\n",
      "33    3137\n",
      "34    1811\n",
      "35    1437\n",
      "36    1239\n",
      "37    2132\n",
      "38    4215\n",
      "39    2162\n",
      "40    1664\n",
      "41    2238\n",
      "42    2567\n",
      "43    1200\n",
      "44     852\n",
      "45    1852\n",
      "46    1203\n",
      "Name: Area, dtype: int64\n",
      "0     399900\n",
      "1     329900\n",
      "2     369000\n",
      "3     232000\n",
      "4     539900\n",
      "5     299900\n",
      "6     314900\n",
      "7     198999\n",
      "8     212000\n",
      "9     242500\n",
      "10    239999\n",
      "11    347000\n",
      "12    329999\n",
      "13    699900\n",
      "14    259900\n",
      "15    449900\n",
      "16    299900\n",
      "17    199900\n",
      "18    499998\n",
      "19    599000\n",
      "20    252900\n",
      "21    255000\n",
      "22    242900\n",
      "23    259900\n",
      "24    573900\n",
      "25    249900\n",
      "26    464500\n",
      "27    469000\n",
      "28    475000\n",
      "29    299900\n",
      "30    349900\n",
      "31    169900\n",
      "32    314900\n",
      "33    579900\n",
      "34    285900\n",
      "35    249900\n",
      "36    229900\n",
      "37    345000\n",
      "38    549000\n",
      "39    287000\n",
      "40    368500\n",
      "41    329900\n",
      "42    314000\n",
      "43    299000\n",
      "44    179900\n",
      "45    299900\n",
      "46    239500\n",
      "Name: Price, dtype: int64\n"
     ]
    }
   ],
   "source": [
    "train_x = x[:80]\n",
    "train_y = y[:80]\n",
    "\n",
    "print(train_x)\n",
    "print(train_y)"
   ]
  },
  {
   "cell_type": "code",
   "execution_count": 125,
   "id": "0c547451",
   "metadata": {
    "scrolled": true
   },
   "outputs": [
    {
     "data": {
      "text/plain": [
       "Text(0, 0.5, 'Price($)')"
      ]
     },
     "execution_count": 125,
     "metadata": {},
     "output_type": "execute_result"
    },
    {
     "data": {
      "image/png": "[encoded data removed]",
      "text/plain": [
       "<Figure size 640x480 with 1 Axes>"
      ]
     },
     "metadata": {},
     "output_type": "display_data"
    }
   ],
   "source": [
    "plt.scatter(x,y)\n",
    "plt.xlabel('Area(sqft)')\n",
    "plt.ylabel('Price($)')"
   ]
  },
  {
   "cell_type": "code",
   "execution_count": null,
   "id": "317a3d32",
   "metadata": {},
   "outputs": [],
   "source": []
  },
  {
   "cell_type": "code",
   "execution_count": null,
   "id": "94cb0d2b",
   "metadata": {
    "scrolled": true
   },
   "outputs": [],
   "source": []
  },
  {
   "cell_type": "code",
   "execution_count": 150,
   "id": "8a8fd13d",
   "metadata": {},
   "outputs": [
    {
     "name": "stdout",
     "output_type": "stream",
     "text": [
      "47\n"
     ]
    }
   ],
   "source": [
    "m = x.shape[0]\n",
    "print(m)"
   ]
  },
  {
   "cell_type": "code",
   "execution_count": 151,
   "id": "42cb692a",
   "metadata": {},
   "outputs": [],
   "source": [
    "def compute_cost(x_train, y_train, w):\n",
    "    cost = 0\n",
    "    total_cost = 0\n",
    "    \n",
    "    for i in range(m):\n",
    "        f = w * x[i]\n",
    "        cost = cost + (f - y[i])**2\n",
    "        \n",
    "    total_cost = cost/(2*m)  \n",
    "    return total_cost\n",
    "       "
   ]
  },
  {
   "cell_type": "code",
   "execution_count": 152,
   "id": "06544f7b",
   "metadata": {},
   "outputs": [
    {
     "name": "stdout",
     "output_type": "stream",
     "text": [
      "64072371526.92553\n"
     ]
    }
   ],
   "source": [
    "print(compute_cost(x_train,y_train,2))"
   ]
  },
  {
   "cell_type": "code",
   "execution_count": 154,
   "id": "1eca0d92",
   "metadata": {},
   "outputs": [
    {
     "name": "stdout",
     "output_type": "stream",
     "text": [
      "71853087961.60638\n"
     ]
    }
   ],
   "source": [
    "print(compute_cost(x_train,y_train,-8))"
   ]
  },
  {
   "cell_type": "code",
   "execution_count": 155,
   "id": "de15195c",
   "metadata": {},
   "outputs": [],
   "source": [
    "w = np.array([4,8,-7,1,5,2,-9,3,8,9])"
   ]
  },
  {
   "cell_type": "code",
   "execution_count": 158,
   "id": "6097a91f",
   "metadata": {},
   "outputs": [
    {
     "data": {
      "text/plain": [
       "[<matplotlib.lines.Line2D at 0x1e03ca53d40>]"
      ]
     },
     "execution_count": 158,
     "metadata": {},
     "output_type": "execute_result"
    },
    {
     "data": {
      "image/png": "[encoded data removed]",
      "text/plain": [
       "<Figure size 640x480 with 1 Axes>"
      ]
     },
     "metadata": {},
     "output_type": "display_data"
    }
   ],
   "source": []
  },
  {
   "cell_type": "code",
   "execution_count": 163,
   "id": "8a793849",
   "metadata": {},
   "outputs": [
    {
     "data": {
      "text/plain": [
       "[<matplotlib.lines.Line2D at 0x1e0433bdaf0>]"
      ]
     },
     "execution_count": 163,
     "metadata": {},
     "output_type": "execute_result"
    },
    {
     "data": {
      "image/png": "[encoded data removed]",
      "text/plain": [
       "<Figure size 1000x600 with 1 Axes>"
      ]
     },
     "metadata": {},
     "output_type": "display_data"
    }
   ],
   "source": [
    "\n",
    "plt.figure(figsize=(10, 6))\n",
    "plt.plot(costs,w)\n",
    "\n"
   ]
  },
  {
   "cell_type": "code",
   "execution_count": null,
   "id": "65eb10a2",
   "metadata": {},
   "outputs": [],
   "source": [
    "\n",
    "              "
   ]
  },
  {
   "cell_type": "code",
   "execution_count": null,
   "id": "2defc360",
   "metadata": {},
   "outputs": [],
   "source": []
  },
  {
   "cell_type": "code",
   "execution_count": null,
   "id": "eb85dfaa",
   "metadata": {
    "scrolled": true
   },
   "outputs": [],
   "source": []
  },
  {
   "cell_type": "code",
   "execution_count": 162,
   "id": "58066aaf",
   "metadata": {},
   "outputs": [
    {
     "data": {
      "text/plain": [
       "Text(0, 0.5, 'Price(in 1000s\\xa0of\\xa0dollars)')"
      ]
     },
     "execution_count": 162,
     "metadata": {},
     "output_type": "execute_result"
    },
    {
     "data": {
      "image/png": "[encoded data removed]",
      "text/plain": [
       "<Figure size 640x480 with 1 Axes>"
      ]
     },
     "metadata": {},
     "output_type": "display_data"
    }
   ],
   "source": [
    "x_train_area = df['Area']\n",
    "x_train_noofbedrooms = df['NoOfBedRooms']\n",
    "plt.scatter(x_train_area/1000, y_train/1000, marker='x')\n",
    "plt.title('Housing Prices')\n",
    "plt.xlabel('Size(1000 sqft.)')\n",
    "plt.ylabel('Price(in 1000s of dollars)')"
   ]
  },
  {
   "cell_type": "code",
   "execution_count": null,
   "id": "3878c82f",
   "metadata": {},
   "outputs": [],
   "source": []
  }
 ],
 "metadata": {
  "kernelspec": {
   "display_name": "mllab_env",
   "language": "python",
   "name": "mllab_env"
  },
  "language_info": {
   "codemirror_mode": {
    "name": "ipython",
    "version": 3
   },
   "file_extension": ".py",
   "mimetype": "text/x-python",
   "name": "python",
   "nbconvert_exporter": "python",
   "pygments_lexer": "ipython3",
   "version": "3.12.8"
  }
 },
 "nbformat": 4,
 "nbformat_minor": 5
}
